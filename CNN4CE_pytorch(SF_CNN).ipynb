{
  "nbformat": 4,
  "nbformat_minor": 0,
  "metadata": {
    "colab": {
      "provenance": [],
      "collapsed_sections": [
        "z-3kGAhY4YW7",
        "9lJIGhu74NvZ"
      ]
    },
    "kernelspec": {
      "name": "python3",
      "display_name": "Python 3"
    },
    "language_info": {
      "name": "python"
    },
    "accelerator": "GPU",
    "gpuClass": "standard"
  },
  "cells": [
    {
      "cell_type": "markdown",
      "source": [
        "\n",
        "\n",
        "\n",
        "*   This code has been written in **google colab**.\n",
        "\n",
        "*   If you are running this code on other platforms or IDEs, should change some little things in this notebook. \n",
        "\n",
        "\n"
      ],
      "metadata": {
        "id": "EGwqrpmYctpN"
      }
    },
    {
      "cell_type": "code",
      "source": [
        "!git clone https://github.com/phdong21/CNN4CE.git"
      ],
      "metadata": {
        "colab": {
          "base_uri": "https://localhost:8080/"
        },
        "id": "fbXw3It5v-DR",
        "outputId": "3e462ca9-bd8d-4118-dc08-4d4a250e2c80"
      },
      "execution_count": 1,
      "outputs": [
        {
          "output_type": "stream",
          "name": "stdout",
          "text": [
            "Cloning into 'CNN4CE'...\n",
            "remote: Enumerating objects: 116, done.\u001b[K\n",
            "remote: Total 116 (delta 0), reused 0 (delta 0), pack-reused 116\u001b[K\n",
            "Receiving objects: 100% (116/116), 56.46 MiB | 18.02 MiB/s, done.\n",
            "Resolving deltas: 100% (66/66), done.\n"
          ]
        }
      ]
    },
    {
      "cell_type": "code",
      "execution_count": 2,
      "metadata": {
        "id": "sHW9Eaa6trve"
      },
      "outputs": [],
      "source": [
        "import torch\n",
        "import torch.nn as nn\n",
        "import torchvision\n",
        "from torch.utils.data import Dataset,DataLoader\n",
        "from sklearn.model_selection import train_test_split\n",
        "import numpy as np\n",
        "import matplotlib.pyplot as plt\n",
        "import numpy.linalg as LA\n",
        "import os\n",
        "import scipy.io as sio\n",
        "device = 'cuda' if torch.cuda.is_available() else 'cpu'"
      ]
    },
    {
      "cell_type": "markdown",
      "source": [
        "# SF-CNN"
      ],
      "metadata": {
        "id": "5uDj0qXAPOtI"
      }
    },
    {
      "cell_type": "code",
      "source": [
        "from numpy import *\n",
        "Nt=32\n",
        "Nt_beam=32\n",
        "Nr=16\n",
        "Nr_beam=16\n",
        "SNR=10.0**(0/10.0) # transmit power\n",
        "# DFT matrix\n",
        "def DFT_matrix(N):\n",
        "    m, n = np.meshgrid(np.arange(N), np.arange(N))\n",
        "    omega = np.exp( - 2 * np.pi * 1j / N )\n",
        "    D = np.power( omega, m * n )\n",
        "    return D\n",
        "\n",
        "F_DFT=DFT_matrix(Nt)/np.sqrt(Nt)\n",
        "F_RF=F_DFT[:,0:Nt_beam]\n",
        "F=F_RF\n",
        "F_conjtransp=np.transpose(np.conjugate(F))\n",
        "FFH=np.dot(F,F_conjtransp)\n",
        "invFFH=np.linalg.inv(FFH)\n",
        "pinvF=np.dot(F_conjtransp,invFFH)\n",
        "\n",
        "W_DFT=DFT_matrix(Nr)/np.sqrt(Nr)\n",
        "W_RF=W_DFT[:,0:Nr_beam]\n",
        "W=W_RF\n",
        "W_conjtransp=np.transpose(np.conjugate(W))\n",
        "\n",
        "scale=2\n",
        "fre=2\n",
        "\n",
        "############## training set generation ##################\n",
        "data_num_train=1000\n",
        "data_num_file=1000\n",
        "H_train=np.zeros((data_num_train,Nr,Nt,2*fre), dtype=float)\n",
        "H_train_noisy=np.zeros((data_num_train,Nr_beam,Nt_beam,2*fre), dtype=float)\n",
        "filedir = os.listdir('/content/CNN4CE/SF-CNN/2fre_data')  # type the path of training data\n",
        "n=0\n",
        "SNRr=0\n",
        "SNR_factor=5.9  # compensate channel power gain to approximate to 1\n",
        "for filename in filedir:\n",
        "    newname = os.path.join('/content/CNN4CE/SF-CNN/2fre_data', filename)\n",
        "    data = sio.loadmat(newname)\n",
        "    channel = data['ChannelData_fre']\n",
        "    for i in range(data_num_file):\n",
        "        for j in range(fre):\n",
        "            a=channel[:,:,j,i]\n",
        "            H=np.transpose(a)\n",
        "            H_re = np.real(H)\n",
        "            H_im = np.imag(H)\n",
        "            H_train[n*data_num_file+i,:,:,2*j]=H_re/scale\n",
        "            H_train[n*data_num_file+i, :, :, 2*j+1] = H_im/scale\n",
        "            N = np.random.normal(0, 1 / np.sqrt(2), size=(Nr, Nt_beam)) + 1j * np.random.normal(0, 1 / np.sqrt(2), size=(Nr, Nt_beam))\n",
        "            NpinvF=np.dot(N,pinvF)\n",
        "            Y = H + 1.0 / np.sqrt(SNR_factor*SNR) * NpinvF\n",
        "            SNRr = SNRr + SNR_factor*SNR * (LA.norm(H)) ** 2 / (LA.norm(NpinvF)) ** 2\n",
        "            Y_re = np.real(Y)\n",
        "            Y_im = np.imag(Y)\n",
        "            H_train_noisy[n*data_num_file+i, :, :, 2 * j] = Y_re / scale\n",
        "            H_train_noisy[n*data_num_file+i, :, :, 2 * j + 1] = Y_im / scale\n",
        "    n=n+1\n",
        "print(n)\n",
        "print(SNRr/(data_num_train*fre))\n",
        "print(H_train.shape,H_train_noisy.shape)\n",
        "index1=np.where(abs(H_train)>1)\n",
        "row_num= np.unique(index1[0])\n",
        "H_train=np.delete(H_train,row_num,axis=0)\n",
        "H_train_noisy=np.delete(H_train_noisy,row_num,axis=0)\n",
        "print(len(row_num))\n",
        "print(H_train.shape,H_train_noisy.shape)"
      ],
      "metadata": {
        "colab": {
          "base_uri": "https://localhost:8080/"
        },
        "id": "YyhN2cQmwG-V",
        "outputId": "0d8e8cd7-4f3e-4d52-e699-54d72af40ea8"
      },
      "execution_count": 44,
      "outputs": [
        {
          "output_type": "stream",
          "name": "stdout",
          "text": [
            "1\n",
            "0.9891929180521922\n",
            "(1000, 16, 32, 4) (1000, 16, 32, 4)\n",
            "1\n",
            "(999, 16, 32, 4) (999, 16, 32, 4)\n"
          ]
        }
      ]
    },
    {
      "cell_type": "markdown",
      "source": [
        "## Dataset "
      ],
      "metadata": {
        "id": "IhLyjeqaRyyi"
      }
    },
    {
      "cell_type": "code",
      "source": [
        "class mydataset(Dataset):\n",
        "  def __init__(self , datas , labels):\n",
        "    super(mydataset,self).__init__()\n",
        "    self.datas = torch.tensor(datas , dtype=torch.float)\n",
        "    self.datas = torch.permute(self.datas, (0,3,1,2)) # must to use torch.permute beacuse the channel must be after batch size [batch_size , channel , nr , nt]\n",
        "    self.labels = torch.tensor(labels , dtype=torch.float)\n",
        "    self.labels = torch.permute(self.labels, (0,3,1,2)) #  must to use torch.permute beacuse the channel must be after batch size [batch_size , channel , nr , nt]\n",
        "  def __getitem__(self, index):\n",
        "    return self.datas[index] , self.labels[index]\n",
        "  def __len__(self):\n",
        "    return self.datas.shape[0]"
      ],
      "metadata": {
        "id": "47xTCs-S1GWX"
      },
      "execution_count": 45,
      "outputs": []
    },
    {
      "cell_type": "code",
      "source": [
        "trainset = mydataset(H_train , H_train_noisy)\n",
        "batch_size = 128\n",
        "trainloader = DataLoader(trainset , batch_size = batch_size , shuffle = True)"
      ],
      "metadata": {
        "id": "dlWBjMSy1gsN"
      },
      "execution_count": 46,
      "outputs": []
    },
    {
      "cell_type": "code",
      "source": [
        "x = trainset.__getitem__(0)\n",
        "x[0].shape"
      ],
      "metadata": {
        "colab": {
          "base_uri": "https://localhost:8080/"
        },
        "id": "GEz2BMmm2l4a",
        "outputId": "091c0412-786e-4199-c5ad-63033d031e03"
      },
      "execution_count": 47,
      "outputs": [
        {
          "output_type": "execute_result",
          "data": {
            "text/plain": [
              "torch.Size([4, 16, 32])"
            ]
          },
          "metadata": {},
          "execution_count": 47
        }
      ]
    },
    {
      "cell_type": "markdown",
      "source": [
        "## Model"
      ],
      "metadata": {
        "id": "z-3kGAhY4YW7"
      }
    },
    {
      "cell_type": "code",
      "source": [
        "import torch.nn as nn\n",
        "# biulding the model\n",
        "class MyModel(nn.Module):\n",
        "    def __init__(self, input_dim, K, fre):\n",
        "        super(MyModel, self).__init__()\n",
        "        \n",
        "        self.conv_layers = nn.Sequential(\n",
        "            nn.Conv2d(in_channels=input_dim, out_channels=64, kernel_size=(K,K), padding='same'),\n",
        "            nn.BatchNorm2d(64),\n",
        "            nn.ReLU(inplace=True),\n",
        "            nn.Conv2d(in_channels=64, out_channels=64, kernel_size=(K,K), padding='same'),\n",
        "            nn.BatchNorm2d(64),\n",
        "            nn.ReLU(inplace=True),\n",
        "            nn.Conv2d(in_channels=64, out_channels=64, kernel_size=(K,K), padding='same'),\n",
        "            nn.BatchNorm2d(64),\n",
        "            nn.ReLU(inplace=True),\n",
        "            nn.Conv2d(in_channels=64, out_channels=64, kernel_size=(K,K), padding='same'),\n",
        "            nn.BatchNorm2d(64),\n",
        "            nn.ReLU(inplace=True),\n",
        "            nn.Conv2d(in_channels=64, out_channels=64, kernel_size=(K,K), padding='same'),\n",
        "            nn.BatchNorm2d(64),\n",
        "            nn.ReLU(inplace=True),\n",
        "            nn.Conv2d(in_channels=64, out_channels=64, kernel_size=(K,K), padding='same'),\n",
        "            nn.BatchNorm2d(64),\n",
        "            nn.ReLU(inplace=True),\n",
        "            nn.Conv2d(in_channels=64, out_channels=64, kernel_size=(K,K), padding='same'),\n",
        "            nn.BatchNorm2d(64),\n",
        "            nn.ReLU(inplace=True),\n",
        "            nn.Conv2d(in_channels=64, out_channels=64, kernel_size=(K,K), padding='same'),\n",
        "            nn.BatchNorm2d(64),\n",
        "            nn.ReLU(inplace=True),\n",
        "            nn.Conv2d(in_channels=64, out_channels=2*fre, kernel_size=(K,K), padding='same'),\n",
        "            nn.Tanh()\n",
        "        )\n",
        "\n",
        "    def forward(self, x):\n",
        "        x = self.conv_layers(x)\n",
        "        return x\n"
      ],
      "metadata": {
        "id": "DDecyV8826BI"
      },
      "execution_count": 48,
      "outputs": []
    },
    {
      "cell_type": "code",
      "source": [
        "model = MyModel(input_dim=4 , K=3, fre=2).to(device)\n",
        "\n",
        "# for testing model\n",
        "x=torch.randn(64,4,16,32).to(device)\n",
        "model(x).shape\n"
      ],
      "metadata": {
        "id": "lFYLZinr5rJs",
        "colab": {
          "base_uri": "https://localhost:8080/"
        },
        "outputId": "fe90618e-cb90-4d5f-dd0f-61a225c9ef6b"
      },
      "execution_count": 49,
      "outputs": [
        {
          "output_type": "execute_result",
          "data": {
            "text/plain": [
              "torch.Size([64, 4, 16, 32])"
            ]
          },
          "metadata": {},
          "execution_count": 49
        }
      ]
    },
    {
      "cell_type": "markdown",
      "source": [
        "## Default setting"
      ],
      "metadata": {
        "id": "9lJIGhu74NvZ"
      }
    },
    {
      "cell_type": "code",
      "source": [
        "optimizer = torch.optim.Adam(model.parameters(),lr = 0.0001,weight_decay=0.005,eps=1e-08) #define the optimizer\n",
        "criterion = nn.MSELoss() #define the loss function "
      ],
      "metadata": {
        "id": "L1QM5PPwmarJ"
      },
      "execution_count": 50,
      "outputs": []
    },
    {
      "cell_type": "code",
      "source": [
        "'''\n",
        "  this class is for calculating the final loss of each epoch\n",
        "'''\n",
        "class AverageMeter(object):\n",
        "    \"\"\"Computes and stores the average and current value\"\"\"\n",
        "    def __init__(self):\n",
        "        self.reset()\n",
        "\n",
        "    def reset(self):\n",
        "        self.val = 0\n",
        "        self.avg = 0\n",
        "        self.sum = 0\n",
        "        self.count = 0\n",
        "\n",
        "    def update(self, val, n=1):\n",
        "        self.val = val\n",
        "        self.sum += val * n\n",
        "        self.count += n\n",
        "        self.avg = self.sum / self.count"
      ],
      "metadata": {
        "id": "RFVOVPzmmtX-"
      },
      "execution_count": 51,
      "outputs": []
    },
    {
      "cell_type": "code",
      "source": [
        "import logging\n",
        "logging.getLogger().setLevel(logging.INFO)\n",
        "logger = logging.getLogger('CNN 4 CE: ')"
      ],
      "metadata": {
        "id": "oLrcCA7jniUD"
      },
      "execution_count": 52,
      "outputs": []
    },
    {
      "cell_type": "code",
      "source": [
        "import sys\n",
        "import logging\n",
        "from tqdm import tqdm"
      ],
      "metadata": {
        "id": "9XmGXrP5nzlM"
      },
      "execution_count": 53,
      "outputs": []
    },
    {
      "cell_type": "markdown",
      "source": [
        "## Train function"
      ],
      "metadata": {
        "id": "jl5kPEso4SIk"
      }
    },
    {
      "cell_type": "code",
      "source": [
        "train_loss=[]\n",
        "snr=[]\n",
        "def train_network(model, train_loader, train_dataset):\n",
        "  epoch_accuracy = []\n",
        "  total_loss = AverageMeter()\n",
        "  model.train()\n",
        "  num_corrects =0.0\n",
        "  for (x, labels) in tqdm(train_loader): #for each batch calculate something for 1 epoch.\n",
        "    x, labels = x.to(device) , labels.to(device)\n",
        "    outputs = model(x)\n",
        "    loss = criterion(outputs, labels) #loss between out and lables\n",
        "    optimizer.zero_grad() #befor use next line better to use zero.grad( )\n",
        "    loss.backward()\n",
        "    optimizer.step()\n",
        "    total_loss.update(loss)\n",
        "  snr.append(total_loss.avg.cpu().detach().numpy())\n",
        "  train_loss.append(total_loss.avg.cpu().detach().numpy() )\n",
        "  logger.info(f'Train: Epoch:{epoch} \\t Loss:{total_loss.avg:.4}')\n",
        "  return "
      ],
      "metadata": {
        "id": "KJTyb7W7wiBg"
      },
      "execution_count": 54,
      "outputs": []
    },
    {
      "cell_type": "markdown",
      "source": [
        "## Training model"
      ],
      "metadata": {
        "id": "IiIJwuq3R6xl"
      }
    },
    {
      "cell_type": "code",
      "source": [
        "start , end = 0,200\n",
        "for epoch in range(start , end):\n",
        "  train_network(model, trainloader, trainset)\n",
        "  # test(model, testloader, testset)\n",
        "  print()"
      ],
      "metadata": {
        "id": "hyjfCl9P2LGp",
        "colab": {
          "base_uri": "https://localhost:8080/"
        },
        "outputId": "76e36bb9-43e0-424f-f177-a797f9af4428"
      },
      "execution_count": 55,
      "outputs": [
        {
          "output_type": "stream",
          "name": "stderr",
          "text": [
            "100%|██████████| 8/8 [00:00<00:00, 26.63it/s]\n",
            "INFO:CNN 4 CE: :Train: Epoch:0 \t Loss:0.08717\n"
          ]
        },
        {
          "output_type": "stream",
          "name": "stdout",
          "text": [
            "\n"
          ]
        },
        {
          "output_type": "stream",
          "name": "stderr",
          "text": [
            "100%|██████████| 8/8 [00:00<00:00, 34.11it/s]\n",
            "INFO:CNN 4 CE: :Train: Epoch:1 \t Loss:0.05059\n"
          ]
        },
        {
          "output_type": "stream",
          "name": "stdout",
          "text": [
            "\n"
          ]
        },
        {
          "output_type": "stream",
          "name": "stderr",
          "text": [
            "100%|██████████| 8/8 [00:00<00:00, 34.12it/s]\n",
            "INFO:CNN 4 CE: :Train: Epoch:2 \t Loss:0.03829\n"
          ]
        },
        {
          "output_type": "stream",
          "name": "stdout",
          "text": [
            "\n"
          ]
        },
        {
          "output_type": "stream",
          "name": "stderr",
          "text": [
            "100%|██████████| 8/8 [00:00<00:00, 34.05it/s]\n",
            "INFO:CNN 4 CE: :Train: Epoch:3 \t Loss:0.03322\n"
          ]
        },
        {
          "output_type": "stream",
          "name": "stdout",
          "text": [
            "\n"
          ]
        },
        {
          "output_type": "stream",
          "name": "stderr",
          "text": [
            "100%|██████████| 8/8 [00:00<00:00, 34.17it/s]\n",
            "INFO:CNN 4 CE: :Train: Epoch:4 \t Loss:0.03091\n"
          ]
        },
        {
          "output_type": "stream",
          "name": "stdout",
          "text": [
            "\n"
          ]
        },
        {
          "output_type": "stream",
          "name": "stderr",
          "text": [
            "100%|██████████| 8/8 [00:00<00:00, 34.55it/s]\n",
            "INFO:CNN 4 CE: :Train: Epoch:5 \t Loss:0.02963\n"
          ]
        },
        {
          "output_type": "stream",
          "name": "stdout",
          "text": [
            "\n"
          ]
        },
        {
          "output_type": "stream",
          "name": "stderr",
          "text": [
            "100%|██████████| 8/8 [00:00<00:00, 34.40it/s]\n",
            "INFO:CNN 4 CE: :Train: Epoch:6 \t Loss:0.02881\n"
          ]
        },
        {
          "output_type": "stream",
          "name": "stdout",
          "text": [
            "\n"
          ]
        },
        {
          "output_type": "stream",
          "name": "stderr",
          "text": [
            "100%|██████████| 8/8 [00:00<00:00, 33.14it/s]\n",
            "INFO:CNN 4 CE: :Train: Epoch:7 \t Loss:0.02815\n"
          ]
        },
        {
          "output_type": "stream",
          "name": "stdout",
          "text": [
            "\n"
          ]
        },
        {
          "output_type": "stream",
          "name": "stderr",
          "text": [
            "100%|██████████| 8/8 [00:00<00:00, 34.13it/s]\n",
            "INFO:CNN 4 CE: :Train: Epoch:8 \t Loss:0.02771\n"
          ]
        },
        {
          "output_type": "stream",
          "name": "stdout",
          "text": [
            "\n"
          ]
        },
        {
          "output_type": "stream",
          "name": "stderr",
          "text": [
            "100%|██████████| 8/8 [00:00<00:00, 34.29it/s]\n",
            "INFO:CNN 4 CE: :Train: Epoch:9 \t Loss:0.02739\n"
          ]
        },
        {
          "output_type": "stream",
          "name": "stdout",
          "text": [
            "\n"
          ]
        },
        {
          "output_type": "stream",
          "name": "stderr",
          "text": [
            "100%|██████████| 8/8 [00:00<00:00, 34.67it/s]\n",
            "INFO:CNN 4 CE: :Train: Epoch:10 \t Loss:0.02702\n"
          ]
        },
        {
          "output_type": "stream",
          "name": "stdout",
          "text": [
            "\n"
          ]
        },
        {
          "output_type": "stream",
          "name": "stderr",
          "text": [
            "100%|██████████| 8/8 [00:00<00:00, 34.71it/s]\n",
            "INFO:CNN 4 CE: :Train: Epoch:11 \t Loss:0.0269\n"
          ]
        },
        {
          "output_type": "stream",
          "name": "stdout",
          "text": [
            "\n"
          ]
        },
        {
          "output_type": "stream",
          "name": "stderr",
          "text": [
            "100%|██████████| 8/8 [00:00<00:00, 34.28it/s]\n",
            "INFO:CNN 4 CE: :Train: Epoch:12 \t Loss:0.02645\n"
          ]
        },
        {
          "output_type": "stream",
          "name": "stdout",
          "text": [
            "\n"
          ]
        },
        {
          "output_type": "stream",
          "name": "stderr",
          "text": [
            "100%|██████████| 8/8 [00:00<00:00, 34.05it/s]\n",
            "INFO:CNN 4 CE: :Train: Epoch:13 \t Loss:0.0263\n"
          ]
        },
        {
          "output_type": "stream",
          "name": "stdout",
          "text": [
            "\n"
          ]
        },
        {
          "output_type": "stream",
          "name": "stderr",
          "text": [
            "100%|██████████| 8/8 [00:00<00:00, 33.87it/s]\n",
            "INFO:CNN 4 CE: :Train: Epoch:14 \t Loss:0.02612\n"
          ]
        },
        {
          "output_type": "stream",
          "name": "stdout",
          "text": [
            "\n"
          ]
        },
        {
          "output_type": "stream",
          "name": "stderr",
          "text": [
            "100%|██████████| 8/8 [00:00<00:00, 33.72it/s]\n",
            "INFO:CNN 4 CE: :Train: Epoch:15 \t Loss:0.02579\n"
          ]
        },
        {
          "output_type": "stream",
          "name": "stdout",
          "text": [
            "\n"
          ]
        },
        {
          "output_type": "stream",
          "name": "stderr",
          "text": [
            "100%|██████████| 8/8 [00:00<00:00, 34.49it/s]\n",
            "INFO:CNN 4 CE: :Train: Epoch:16 \t Loss:0.02557\n"
          ]
        },
        {
          "output_type": "stream",
          "name": "stdout",
          "text": [
            "\n"
          ]
        },
        {
          "output_type": "stream",
          "name": "stderr",
          "text": [
            "100%|██████████| 8/8 [00:00<00:00, 34.30it/s]\n",
            "INFO:CNN 4 CE: :Train: Epoch:17 \t Loss:0.02538\n"
          ]
        },
        {
          "output_type": "stream",
          "name": "stdout",
          "text": [
            "\n"
          ]
        },
        {
          "output_type": "stream",
          "name": "stderr",
          "text": [
            "100%|██████████| 8/8 [00:00<00:00, 34.28it/s]\n",
            "INFO:CNN 4 CE: :Train: Epoch:18 \t Loss:0.02517\n"
          ]
        },
        {
          "output_type": "stream",
          "name": "stdout",
          "text": [
            "\n"
          ]
        },
        {
          "output_type": "stream",
          "name": "stderr",
          "text": [
            "100%|██████████| 8/8 [00:00<00:00, 34.42it/s]\n",
            "INFO:CNN 4 CE: :Train: Epoch:19 \t Loss:0.02499\n"
          ]
        },
        {
          "output_type": "stream",
          "name": "stdout",
          "text": [
            "\n"
          ]
        },
        {
          "output_type": "stream",
          "name": "stderr",
          "text": [
            "100%|██████████| 8/8 [00:00<00:00, 34.37it/s]\n",
            "INFO:CNN 4 CE: :Train: Epoch:20 \t Loss:0.02491\n"
          ]
        },
        {
          "output_type": "stream",
          "name": "stdout",
          "text": [
            "\n"
          ]
        },
        {
          "output_type": "stream",
          "name": "stderr",
          "text": [
            "100%|██████████| 8/8 [00:00<00:00, 34.51it/s]\n",
            "INFO:CNN 4 CE: :Train: Epoch:21 \t Loss:0.02473\n"
          ]
        },
        {
          "output_type": "stream",
          "name": "stdout",
          "text": [
            "\n"
          ]
        },
        {
          "output_type": "stream",
          "name": "stderr",
          "text": [
            "100%|██████████| 8/8 [00:00<00:00, 34.31it/s]\n",
            "INFO:CNN 4 CE: :Train: Epoch:22 \t Loss:0.02458\n"
          ]
        },
        {
          "output_type": "stream",
          "name": "stdout",
          "text": [
            "\n"
          ]
        },
        {
          "output_type": "stream",
          "name": "stderr",
          "text": [
            "100%|██████████| 8/8 [00:00<00:00, 34.19it/s]\n",
            "INFO:CNN 4 CE: :Train: Epoch:23 \t Loss:0.02439\n"
          ]
        },
        {
          "output_type": "stream",
          "name": "stdout",
          "text": [
            "\n"
          ]
        },
        {
          "output_type": "stream",
          "name": "stderr",
          "text": [
            "100%|██████████| 8/8 [00:00<00:00, 34.39it/s]\n",
            "INFO:CNN 4 CE: :Train: Epoch:24 \t Loss:0.02427\n"
          ]
        },
        {
          "output_type": "stream",
          "name": "stdout",
          "text": [
            "\n"
          ]
        },
        {
          "output_type": "stream",
          "name": "stderr",
          "text": [
            "100%|██████████| 8/8 [00:00<00:00, 34.30it/s]\n",
            "INFO:CNN 4 CE: :Train: Epoch:25 \t Loss:0.02411\n"
          ]
        },
        {
          "output_type": "stream",
          "name": "stdout",
          "text": [
            "\n"
          ]
        },
        {
          "output_type": "stream",
          "name": "stderr",
          "text": [
            "100%|██████████| 8/8 [00:00<00:00, 34.32it/s]\n",
            "INFO:CNN 4 CE: :Train: Epoch:26 \t Loss:0.02403\n"
          ]
        },
        {
          "output_type": "stream",
          "name": "stdout",
          "text": [
            "\n"
          ]
        },
        {
          "output_type": "stream",
          "name": "stderr",
          "text": [
            "100%|██████████| 8/8 [00:00<00:00, 34.06it/s]\n",
            "INFO:CNN 4 CE: :Train: Epoch:27 \t Loss:0.02394\n"
          ]
        },
        {
          "output_type": "stream",
          "name": "stdout",
          "text": [
            "\n"
          ]
        },
        {
          "output_type": "stream",
          "name": "stderr",
          "text": [
            "100%|██████████| 8/8 [00:00<00:00, 34.49it/s]\n",
            "INFO:CNN 4 CE: :Train: Epoch:28 \t Loss:0.02382\n"
          ]
        },
        {
          "output_type": "stream",
          "name": "stdout",
          "text": [
            "\n"
          ]
        },
        {
          "output_type": "stream",
          "name": "stderr",
          "text": [
            "100%|██████████| 8/8 [00:00<00:00, 34.17it/s]\n",
            "INFO:CNN 4 CE: :Train: Epoch:29 \t Loss:0.02363\n"
          ]
        },
        {
          "output_type": "stream",
          "name": "stdout",
          "text": [
            "\n"
          ]
        },
        {
          "output_type": "stream",
          "name": "stderr",
          "text": [
            "100%|██████████| 8/8 [00:00<00:00, 34.25it/s]\n",
            "INFO:CNN 4 CE: :Train: Epoch:30 \t Loss:0.02363\n"
          ]
        },
        {
          "output_type": "stream",
          "name": "stdout",
          "text": [
            "\n"
          ]
        },
        {
          "output_type": "stream",
          "name": "stderr",
          "text": [
            "100%|██████████| 8/8 [00:00<00:00, 34.16it/s]\n",
            "INFO:CNN 4 CE: :Train: Epoch:31 \t Loss:0.02341\n"
          ]
        },
        {
          "output_type": "stream",
          "name": "stdout",
          "text": [
            "\n"
          ]
        },
        {
          "output_type": "stream",
          "name": "stderr",
          "text": [
            "100%|██████████| 8/8 [00:00<00:00, 34.22it/s]\n",
            "INFO:CNN 4 CE: :Train: Epoch:32 \t Loss:0.02335\n"
          ]
        },
        {
          "output_type": "stream",
          "name": "stdout",
          "text": [
            "\n"
          ]
        },
        {
          "output_type": "stream",
          "name": "stderr",
          "text": [
            "100%|██████████| 8/8 [00:00<00:00, 34.11it/s]\n",
            "INFO:CNN 4 CE: :Train: Epoch:33 \t Loss:0.02335\n"
          ]
        },
        {
          "output_type": "stream",
          "name": "stdout",
          "text": [
            "\n"
          ]
        },
        {
          "output_type": "stream",
          "name": "stderr",
          "text": [
            "100%|██████████| 8/8 [00:00<00:00, 34.36it/s]\n",
            "INFO:CNN 4 CE: :Train: Epoch:34 \t Loss:0.02335\n"
          ]
        },
        {
          "output_type": "stream",
          "name": "stdout",
          "text": [
            "\n"
          ]
        },
        {
          "output_type": "stream",
          "name": "stderr",
          "text": [
            "100%|██████████| 8/8 [00:00<00:00, 34.22it/s]\n",
            "INFO:CNN 4 CE: :Train: Epoch:35 \t Loss:0.02331\n"
          ]
        },
        {
          "output_type": "stream",
          "name": "stdout",
          "text": [
            "\n"
          ]
        },
        {
          "output_type": "stream",
          "name": "stderr",
          "text": [
            "100%|██████████| 8/8 [00:00<00:00, 34.17it/s]\n",
            "INFO:CNN 4 CE: :Train: Epoch:36 \t Loss:0.02308\n"
          ]
        },
        {
          "output_type": "stream",
          "name": "stdout",
          "text": [
            "\n"
          ]
        },
        {
          "output_type": "stream",
          "name": "stderr",
          "text": [
            "100%|██████████| 8/8 [00:00<00:00, 34.09it/s]\n",
            "INFO:CNN 4 CE: :Train: Epoch:37 \t Loss:0.02309\n"
          ]
        },
        {
          "output_type": "stream",
          "name": "stdout",
          "text": [
            "\n"
          ]
        },
        {
          "output_type": "stream",
          "name": "stderr",
          "text": [
            "100%|██████████| 8/8 [00:00<00:00, 34.07it/s]\n",
            "INFO:CNN 4 CE: :Train: Epoch:38 \t Loss:0.02287\n"
          ]
        },
        {
          "output_type": "stream",
          "name": "stdout",
          "text": [
            "\n"
          ]
        },
        {
          "output_type": "stream",
          "name": "stderr",
          "text": [
            "100%|██████████| 8/8 [00:00<00:00, 33.97it/s]\n",
            "INFO:CNN 4 CE: :Train: Epoch:39 \t Loss:0.02285\n"
          ]
        },
        {
          "output_type": "stream",
          "name": "stdout",
          "text": [
            "\n"
          ]
        },
        {
          "output_type": "stream",
          "name": "stderr",
          "text": [
            "100%|██████████| 8/8 [00:00<00:00, 34.16it/s]\n",
            "INFO:CNN 4 CE: :Train: Epoch:40 \t Loss:0.02287\n"
          ]
        },
        {
          "output_type": "stream",
          "name": "stdout",
          "text": [
            "\n"
          ]
        },
        {
          "output_type": "stream",
          "name": "stderr",
          "text": [
            "100%|██████████| 8/8 [00:00<00:00, 34.34it/s]\n",
            "INFO:CNN 4 CE: :Train: Epoch:41 \t Loss:0.02269\n"
          ]
        },
        {
          "output_type": "stream",
          "name": "stdout",
          "text": [
            "\n"
          ]
        },
        {
          "output_type": "stream",
          "name": "stderr",
          "text": [
            "100%|██████████| 8/8 [00:00<00:00, 33.52it/s]\n",
            "INFO:CNN 4 CE: :Train: Epoch:42 \t Loss:0.02268\n"
          ]
        },
        {
          "output_type": "stream",
          "name": "stdout",
          "text": [
            "\n"
          ]
        },
        {
          "output_type": "stream",
          "name": "stderr",
          "text": [
            "100%|██████████| 8/8 [00:00<00:00, 33.53it/s]\n",
            "INFO:CNN 4 CE: :Train: Epoch:43 \t Loss:0.02256\n"
          ]
        },
        {
          "output_type": "stream",
          "name": "stdout",
          "text": [
            "\n"
          ]
        },
        {
          "output_type": "stream",
          "name": "stderr",
          "text": [
            "100%|██████████| 8/8 [00:00<00:00, 33.31it/s]\n",
            "INFO:CNN 4 CE: :Train: Epoch:44 \t Loss:0.02251\n"
          ]
        },
        {
          "output_type": "stream",
          "name": "stdout",
          "text": [
            "\n"
          ]
        },
        {
          "output_type": "stream",
          "name": "stderr",
          "text": [
            "100%|██████████| 8/8 [00:00<00:00, 32.78it/s]\n",
            "INFO:CNN 4 CE: :Train: Epoch:45 \t Loss:0.02246\n"
          ]
        },
        {
          "output_type": "stream",
          "name": "stdout",
          "text": [
            "\n"
          ]
        },
        {
          "output_type": "stream",
          "name": "stderr",
          "text": [
            "100%|██████████| 8/8 [00:00<00:00, 33.47it/s]\n",
            "INFO:CNN 4 CE: :Train: Epoch:46 \t Loss:0.02235\n"
          ]
        },
        {
          "output_type": "stream",
          "name": "stdout",
          "text": [
            "\n"
          ]
        },
        {
          "output_type": "stream",
          "name": "stderr",
          "text": [
            "100%|██████████| 8/8 [00:00<00:00, 33.20it/s]\n",
            "INFO:CNN 4 CE: :Train: Epoch:47 \t Loss:0.02229\n"
          ]
        },
        {
          "output_type": "stream",
          "name": "stdout",
          "text": [
            "\n"
          ]
        },
        {
          "output_type": "stream",
          "name": "stderr",
          "text": [
            "100%|██████████| 8/8 [00:00<00:00, 33.67it/s]\n",
            "INFO:CNN 4 CE: :Train: Epoch:48 \t Loss:0.02223\n"
          ]
        },
        {
          "output_type": "stream",
          "name": "stdout",
          "text": [
            "\n"
          ]
        },
        {
          "output_type": "stream",
          "name": "stderr",
          "text": [
            "100%|██████████| 8/8 [00:00<00:00, 33.74it/s]\n",
            "INFO:CNN 4 CE: :Train: Epoch:49 \t Loss:0.02222\n"
          ]
        },
        {
          "output_type": "stream",
          "name": "stdout",
          "text": [
            "\n"
          ]
        },
        {
          "output_type": "stream",
          "name": "stderr",
          "text": [
            "100%|██████████| 8/8 [00:00<00:00, 33.61it/s]\n",
            "INFO:CNN 4 CE: :Train: Epoch:50 \t Loss:0.02224\n"
          ]
        },
        {
          "output_type": "stream",
          "name": "stdout",
          "text": [
            "\n"
          ]
        },
        {
          "output_type": "stream",
          "name": "stderr",
          "text": [
            "100%|██████████| 8/8 [00:00<00:00, 33.86it/s]\n",
            "INFO:CNN 4 CE: :Train: Epoch:51 \t Loss:0.02217\n"
          ]
        },
        {
          "output_type": "stream",
          "name": "stdout",
          "text": [
            "\n"
          ]
        },
        {
          "output_type": "stream",
          "name": "stderr",
          "text": [
            "100%|██████████| 8/8 [00:00<00:00, 34.11it/s]\n",
            "INFO:CNN 4 CE: :Train: Epoch:52 \t Loss:0.02213\n"
          ]
        },
        {
          "output_type": "stream",
          "name": "stdout",
          "text": [
            "\n"
          ]
        },
        {
          "output_type": "stream",
          "name": "stderr",
          "text": [
            "100%|██████████| 8/8 [00:00<00:00, 34.30it/s]\n",
            "INFO:CNN 4 CE: :Train: Epoch:53 \t Loss:0.02212\n"
          ]
        },
        {
          "output_type": "stream",
          "name": "stdout",
          "text": [
            "\n"
          ]
        },
        {
          "output_type": "stream",
          "name": "stderr",
          "text": [
            "100%|██████████| 8/8 [00:00<00:00, 34.23it/s]\n",
            "INFO:CNN 4 CE: :Train: Epoch:54 \t Loss:0.02205\n"
          ]
        },
        {
          "output_type": "stream",
          "name": "stdout",
          "text": [
            "\n"
          ]
        },
        {
          "output_type": "stream",
          "name": "stderr",
          "text": [
            "100%|██████████| 8/8 [00:00<00:00, 34.01it/s]\n",
            "INFO:CNN 4 CE: :Train: Epoch:55 \t Loss:0.02197\n"
          ]
        },
        {
          "output_type": "stream",
          "name": "stdout",
          "text": [
            "\n"
          ]
        },
        {
          "output_type": "stream",
          "name": "stderr",
          "text": [
            "100%|██████████| 8/8 [00:00<00:00, 34.21it/s]\n",
            "INFO:CNN 4 CE: :Train: Epoch:56 \t Loss:0.02195\n"
          ]
        },
        {
          "output_type": "stream",
          "name": "stdout",
          "text": [
            "\n"
          ]
        },
        {
          "output_type": "stream",
          "name": "stderr",
          "text": [
            "100%|██████████| 8/8 [00:00<00:00, 34.31it/s]\n",
            "INFO:CNN 4 CE: :Train: Epoch:57 \t Loss:0.02187\n"
          ]
        },
        {
          "output_type": "stream",
          "name": "stdout",
          "text": [
            "\n"
          ]
        },
        {
          "output_type": "stream",
          "name": "stderr",
          "text": [
            "100%|██████████| 8/8 [00:00<00:00, 34.01it/s]\n",
            "INFO:CNN 4 CE: :Train: Epoch:58 \t Loss:0.02179\n"
          ]
        },
        {
          "output_type": "stream",
          "name": "stdout",
          "text": [
            "\n"
          ]
        },
        {
          "output_type": "stream",
          "name": "stderr",
          "text": [
            "100%|██████████| 8/8 [00:00<00:00, 33.95it/s]\n",
            "INFO:CNN 4 CE: :Train: Epoch:59 \t Loss:0.02175\n"
          ]
        },
        {
          "output_type": "stream",
          "name": "stdout",
          "text": [
            "\n"
          ]
        },
        {
          "output_type": "stream",
          "name": "stderr",
          "text": [
            "100%|██████████| 8/8 [00:00<00:00, 34.26it/s]\n",
            "INFO:CNN 4 CE: :Train: Epoch:60 \t Loss:0.02175\n"
          ]
        },
        {
          "output_type": "stream",
          "name": "stdout",
          "text": [
            "\n"
          ]
        },
        {
          "output_type": "stream",
          "name": "stderr",
          "text": [
            "100%|██████████| 8/8 [00:00<00:00, 33.26it/s]\n",
            "INFO:CNN 4 CE: :Train: Epoch:61 \t Loss:0.02179\n"
          ]
        },
        {
          "output_type": "stream",
          "name": "stdout",
          "text": [
            "\n"
          ]
        },
        {
          "output_type": "stream",
          "name": "stderr",
          "text": [
            "100%|██████████| 8/8 [00:00<00:00, 34.23it/s]\n",
            "INFO:CNN 4 CE: :Train: Epoch:62 \t Loss:0.02175\n"
          ]
        },
        {
          "output_type": "stream",
          "name": "stdout",
          "text": [
            "\n"
          ]
        },
        {
          "output_type": "stream",
          "name": "stderr",
          "text": [
            "100%|██████████| 8/8 [00:00<00:00, 33.97it/s]\n",
            "INFO:CNN 4 CE: :Train: Epoch:63 \t Loss:0.02186\n"
          ]
        },
        {
          "output_type": "stream",
          "name": "stdout",
          "text": [
            "\n"
          ]
        },
        {
          "output_type": "stream",
          "name": "stderr",
          "text": [
            "100%|██████████| 8/8 [00:00<00:00, 34.07it/s]\n",
            "INFO:CNN 4 CE: :Train: Epoch:64 \t Loss:0.02184\n"
          ]
        },
        {
          "output_type": "stream",
          "name": "stdout",
          "text": [
            "\n"
          ]
        },
        {
          "output_type": "stream",
          "name": "stderr",
          "text": [
            "100%|██████████| 8/8 [00:00<00:00, 34.22it/s]\n",
            "INFO:CNN 4 CE: :Train: Epoch:65 \t Loss:0.02167\n"
          ]
        },
        {
          "output_type": "stream",
          "name": "stdout",
          "text": [
            "\n"
          ]
        },
        {
          "output_type": "stream",
          "name": "stderr",
          "text": [
            "100%|██████████| 8/8 [00:00<00:00, 33.75it/s]\n",
            "INFO:CNN 4 CE: :Train: Epoch:66 \t Loss:0.0216\n"
          ]
        },
        {
          "output_type": "stream",
          "name": "stdout",
          "text": [
            "\n"
          ]
        },
        {
          "output_type": "stream",
          "name": "stderr",
          "text": [
            "100%|██████████| 8/8 [00:00<00:00, 34.11it/s]\n",
            "INFO:CNN 4 CE: :Train: Epoch:67 \t Loss:0.02153\n"
          ]
        },
        {
          "output_type": "stream",
          "name": "stdout",
          "text": [
            "\n"
          ]
        },
        {
          "output_type": "stream",
          "name": "stderr",
          "text": [
            "100%|██████████| 8/8 [00:00<00:00, 34.12it/s]\n",
            "INFO:CNN 4 CE: :Train: Epoch:68 \t Loss:0.02163\n"
          ]
        },
        {
          "output_type": "stream",
          "name": "stdout",
          "text": [
            "\n"
          ]
        },
        {
          "output_type": "stream",
          "name": "stderr",
          "text": [
            "100%|██████████| 8/8 [00:00<00:00, 34.09it/s]\n",
            "INFO:CNN 4 CE: :Train: Epoch:69 \t Loss:0.02172\n"
          ]
        },
        {
          "output_type": "stream",
          "name": "stdout",
          "text": [
            "\n"
          ]
        },
        {
          "output_type": "stream",
          "name": "stderr",
          "text": [
            "100%|██████████| 8/8 [00:00<00:00, 34.14it/s]\n",
            "INFO:CNN 4 CE: :Train: Epoch:70 \t Loss:0.02165\n"
          ]
        },
        {
          "output_type": "stream",
          "name": "stdout",
          "text": [
            "\n"
          ]
        },
        {
          "output_type": "stream",
          "name": "stderr",
          "text": [
            "100%|██████████| 8/8 [00:00<00:00, 33.77it/s]\n",
            "INFO:CNN 4 CE: :Train: Epoch:71 \t Loss:0.02158\n"
          ]
        },
        {
          "output_type": "stream",
          "name": "stdout",
          "text": [
            "\n"
          ]
        },
        {
          "output_type": "stream",
          "name": "stderr",
          "text": [
            "100%|██████████| 8/8 [00:00<00:00, 33.83it/s]\n",
            "INFO:CNN 4 CE: :Train: Epoch:72 \t Loss:0.02163\n"
          ]
        },
        {
          "output_type": "stream",
          "name": "stdout",
          "text": [
            "\n"
          ]
        },
        {
          "output_type": "stream",
          "name": "stderr",
          "text": [
            "100%|██████████| 8/8 [00:00<00:00, 33.68it/s]\n",
            "INFO:CNN 4 CE: :Train: Epoch:73 \t Loss:0.02152\n"
          ]
        },
        {
          "output_type": "stream",
          "name": "stdout",
          "text": [
            "\n"
          ]
        },
        {
          "output_type": "stream",
          "name": "stderr",
          "text": [
            "100%|██████████| 8/8 [00:00<00:00, 33.92it/s]\n",
            "INFO:CNN 4 CE: :Train: Epoch:74 \t Loss:0.02142\n"
          ]
        },
        {
          "output_type": "stream",
          "name": "stdout",
          "text": [
            "\n"
          ]
        },
        {
          "output_type": "stream",
          "name": "stderr",
          "text": [
            "100%|██████████| 8/8 [00:00<00:00, 33.60it/s]\n",
            "INFO:CNN 4 CE: :Train: Epoch:75 \t Loss:0.02139\n"
          ]
        },
        {
          "output_type": "stream",
          "name": "stdout",
          "text": [
            "\n"
          ]
        },
        {
          "output_type": "stream",
          "name": "stderr",
          "text": [
            "100%|██████████| 8/8 [00:00<00:00, 34.05it/s]\n",
            "INFO:CNN 4 CE: :Train: Epoch:76 \t Loss:0.0213\n"
          ]
        },
        {
          "output_type": "stream",
          "name": "stdout",
          "text": [
            "\n"
          ]
        },
        {
          "output_type": "stream",
          "name": "stderr",
          "text": [
            "100%|██████████| 8/8 [00:00<00:00, 34.01it/s]\n",
            "INFO:CNN 4 CE: :Train: Epoch:77 \t Loss:0.02142\n"
          ]
        },
        {
          "output_type": "stream",
          "name": "stdout",
          "text": [
            "\n"
          ]
        },
        {
          "output_type": "stream",
          "name": "stderr",
          "text": [
            "100%|██████████| 8/8 [00:00<00:00, 34.09it/s]\n",
            "INFO:CNN 4 CE: :Train: Epoch:78 \t Loss:0.02139\n"
          ]
        },
        {
          "output_type": "stream",
          "name": "stdout",
          "text": [
            "\n"
          ]
        },
        {
          "output_type": "stream",
          "name": "stderr",
          "text": [
            "100%|██████████| 8/8 [00:00<00:00, 32.10it/s]\n",
            "INFO:CNN 4 CE: :Train: Epoch:79 \t Loss:0.02128\n"
          ]
        },
        {
          "output_type": "stream",
          "name": "stdout",
          "text": [
            "\n"
          ]
        },
        {
          "output_type": "stream",
          "name": "stderr",
          "text": [
            "100%|██████████| 8/8 [00:00<00:00, 33.88it/s]\n",
            "INFO:CNN 4 CE: :Train: Epoch:80 \t Loss:0.02128\n"
          ]
        },
        {
          "output_type": "stream",
          "name": "stdout",
          "text": [
            "\n"
          ]
        },
        {
          "output_type": "stream",
          "name": "stderr",
          "text": [
            "100%|██████████| 8/8 [00:00<00:00, 33.75it/s]\n",
            "INFO:CNN 4 CE: :Train: Epoch:81 \t Loss:0.02119\n"
          ]
        },
        {
          "output_type": "stream",
          "name": "stdout",
          "text": [
            "\n"
          ]
        },
        {
          "output_type": "stream",
          "name": "stderr",
          "text": [
            "100%|██████████| 8/8 [00:00<00:00, 33.48it/s]\n",
            "INFO:CNN 4 CE: :Train: Epoch:82 \t Loss:0.02123\n"
          ]
        },
        {
          "output_type": "stream",
          "name": "stdout",
          "text": [
            "\n"
          ]
        },
        {
          "output_type": "stream",
          "name": "stderr",
          "text": [
            "100%|██████████| 8/8 [00:00<00:00, 34.25it/s]\n",
            "INFO:CNN 4 CE: :Train: Epoch:83 \t Loss:0.02135\n"
          ]
        },
        {
          "output_type": "stream",
          "name": "stdout",
          "text": [
            "\n"
          ]
        },
        {
          "output_type": "stream",
          "name": "stderr",
          "text": [
            "100%|██████████| 8/8 [00:00<00:00, 34.19it/s]\n",
            "INFO:CNN 4 CE: :Train: Epoch:84 \t Loss:0.02138\n"
          ]
        },
        {
          "output_type": "stream",
          "name": "stdout",
          "text": [
            "\n"
          ]
        },
        {
          "output_type": "stream",
          "name": "stderr",
          "text": [
            "100%|██████████| 8/8 [00:00<00:00, 33.72it/s]\n",
            "INFO:CNN 4 CE: :Train: Epoch:85 \t Loss:0.02123\n"
          ]
        },
        {
          "output_type": "stream",
          "name": "stdout",
          "text": [
            "\n"
          ]
        },
        {
          "output_type": "stream",
          "name": "stderr",
          "text": [
            "100%|██████████| 8/8 [00:00<00:00, 34.00it/s]\n",
            "INFO:CNN 4 CE: :Train: Epoch:86 \t Loss:0.02119\n"
          ]
        },
        {
          "output_type": "stream",
          "name": "stdout",
          "text": [
            "\n"
          ]
        },
        {
          "output_type": "stream",
          "name": "stderr",
          "text": [
            "100%|██████████| 8/8 [00:00<00:00, 33.77it/s]\n",
            "INFO:CNN 4 CE: :Train: Epoch:87 \t Loss:0.02106\n"
          ]
        },
        {
          "output_type": "stream",
          "name": "stdout",
          "text": [
            "\n"
          ]
        },
        {
          "output_type": "stream",
          "name": "stderr",
          "text": [
            "100%|██████████| 8/8 [00:00<00:00, 33.99it/s]\n",
            "INFO:CNN 4 CE: :Train: Epoch:88 \t Loss:0.02106\n"
          ]
        },
        {
          "output_type": "stream",
          "name": "stdout",
          "text": [
            "\n"
          ]
        },
        {
          "output_type": "stream",
          "name": "stderr",
          "text": [
            "100%|██████████| 8/8 [00:00<00:00, 33.16it/s]\n",
            "INFO:CNN 4 CE: :Train: Epoch:89 \t Loss:0.02103\n"
          ]
        },
        {
          "output_type": "stream",
          "name": "stdout",
          "text": [
            "\n"
          ]
        },
        {
          "output_type": "stream",
          "name": "stderr",
          "text": [
            "100%|██████████| 8/8 [00:00<00:00, 33.67it/s]\n",
            "INFO:CNN 4 CE: :Train: Epoch:90 \t Loss:0.02098\n"
          ]
        },
        {
          "output_type": "stream",
          "name": "stdout",
          "text": [
            "\n"
          ]
        },
        {
          "output_type": "stream",
          "name": "stderr",
          "text": [
            "100%|██████████| 8/8 [00:00<00:00, 33.59it/s]\n",
            "INFO:CNN 4 CE: :Train: Epoch:91 \t Loss:0.02098\n"
          ]
        },
        {
          "output_type": "stream",
          "name": "stdout",
          "text": [
            "\n"
          ]
        },
        {
          "output_type": "stream",
          "name": "stderr",
          "text": [
            "100%|██████████| 8/8 [00:00<00:00, 32.96it/s]\n",
            "INFO:CNN 4 CE: :Train: Epoch:92 \t Loss:0.02106\n"
          ]
        },
        {
          "output_type": "stream",
          "name": "stdout",
          "text": [
            "\n"
          ]
        },
        {
          "output_type": "stream",
          "name": "stderr",
          "text": [
            "100%|██████████| 8/8 [00:00<00:00, 33.52it/s]\n",
            "INFO:CNN 4 CE: :Train: Epoch:93 \t Loss:0.02097\n"
          ]
        },
        {
          "output_type": "stream",
          "name": "stdout",
          "text": [
            "\n"
          ]
        },
        {
          "output_type": "stream",
          "name": "stderr",
          "text": [
            "100%|██████████| 8/8 [00:00<00:00, 33.06it/s]\n",
            "INFO:CNN 4 CE: :Train: Epoch:94 \t Loss:0.02087\n"
          ]
        },
        {
          "output_type": "stream",
          "name": "stdout",
          "text": [
            "\n"
          ]
        },
        {
          "output_type": "stream",
          "name": "stderr",
          "text": [
            "100%|██████████| 8/8 [00:00<00:00, 33.67it/s]\n",
            "INFO:CNN 4 CE: :Train: Epoch:95 \t Loss:0.02088\n"
          ]
        },
        {
          "output_type": "stream",
          "name": "stdout",
          "text": [
            "\n"
          ]
        },
        {
          "output_type": "stream",
          "name": "stderr",
          "text": [
            "100%|██████████| 8/8 [00:00<00:00, 33.59it/s]\n",
            "INFO:CNN 4 CE: :Train: Epoch:96 \t Loss:0.02085\n"
          ]
        },
        {
          "output_type": "stream",
          "name": "stdout",
          "text": [
            "\n"
          ]
        },
        {
          "output_type": "stream",
          "name": "stderr",
          "text": [
            "100%|██████████| 8/8 [00:00<00:00, 33.33it/s]\n",
            "INFO:CNN 4 CE: :Train: Epoch:97 \t Loss:0.0209\n"
          ]
        },
        {
          "output_type": "stream",
          "name": "stdout",
          "text": [
            "\n"
          ]
        },
        {
          "output_type": "stream",
          "name": "stderr",
          "text": [
            "100%|██████████| 8/8 [00:00<00:00, 33.23it/s]\n",
            "INFO:CNN 4 CE: :Train: Epoch:98 \t Loss:0.0209\n"
          ]
        },
        {
          "output_type": "stream",
          "name": "stdout",
          "text": [
            "\n"
          ]
        },
        {
          "output_type": "stream",
          "name": "stderr",
          "text": [
            "100%|██████████| 8/8 [00:00<00:00, 34.03it/s]\n",
            "INFO:CNN 4 CE: :Train: Epoch:99 \t Loss:0.02107\n"
          ]
        },
        {
          "output_type": "stream",
          "name": "stdout",
          "text": [
            "\n"
          ]
        },
        {
          "output_type": "stream",
          "name": "stderr",
          "text": [
            "100%|██████████| 8/8 [00:00<00:00, 33.97it/s]\n",
            "INFO:CNN 4 CE: :Train: Epoch:100 \t Loss:0.02093\n"
          ]
        },
        {
          "output_type": "stream",
          "name": "stdout",
          "text": [
            "\n"
          ]
        },
        {
          "output_type": "stream",
          "name": "stderr",
          "text": [
            "100%|██████████| 8/8 [00:00<00:00, 33.88it/s]\n",
            "INFO:CNN 4 CE: :Train: Epoch:101 \t Loss:0.02075\n"
          ]
        },
        {
          "output_type": "stream",
          "name": "stdout",
          "text": [
            "\n"
          ]
        },
        {
          "output_type": "stream",
          "name": "stderr",
          "text": [
            "100%|██████████| 8/8 [00:00<00:00, 34.14it/s]\n",
            "INFO:CNN 4 CE: :Train: Epoch:102 \t Loss:0.02069\n"
          ]
        },
        {
          "output_type": "stream",
          "name": "stdout",
          "text": [
            "\n"
          ]
        },
        {
          "output_type": "stream",
          "name": "stderr",
          "text": [
            "100%|██████████| 8/8 [00:00<00:00, 33.72it/s]\n",
            "INFO:CNN 4 CE: :Train: Epoch:103 \t Loss:0.0207\n"
          ]
        },
        {
          "output_type": "stream",
          "name": "stdout",
          "text": [
            "\n"
          ]
        },
        {
          "output_type": "stream",
          "name": "stderr",
          "text": [
            "100%|██████████| 8/8 [00:00<00:00, 34.01it/s]\n",
            "INFO:CNN 4 CE: :Train: Epoch:104 \t Loss:0.02074\n"
          ]
        },
        {
          "output_type": "stream",
          "name": "stdout",
          "text": [
            "\n"
          ]
        },
        {
          "output_type": "stream",
          "name": "stderr",
          "text": [
            "100%|██████████| 8/8 [00:00<00:00, 33.99it/s]\n",
            "INFO:CNN 4 CE: :Train: Epoch:105 \t Loss:0.02065\n"
          ]
        },
        {
          "output_type": "stream",
          "name": "stdout",
          "text": [
            "\n"
          ]
        },
        {
          "output_type": "stream",
          "name": "stderr",
          "text": [
            "100%|██████████| 8/8 [00:00<00:00, 32.92it/s]\n",
            "INFO:CNN 4 CE: :Train: Epoch:106 \t Loss:0.02069\n"
          ]
        },
        {
          "output_type": "stream",
          "name": "stdout",
          "text": [
            "\n"
          ]
        },
        {
          "output_type": "stream",
          "name": "stderr",
          "text": [
            "100%|██████████| 8/8 [00:00<00:00, 33.23it/s]\n",
            "INFO:CNN 4 CE: :Train: Epoch:107 \t Loss:0.02062\n"
          ]
        },
        {
          "output_type": "stream",
          "name": "stdout",
          "text": [
            "\n"
          ]
        },
        {
          "output_type": "stream",
          "name": "stderr",
          "text": [
            "100%|██████████| 8/8 [00:00<00:00, 33.65it/s]\n",
            "INFO:CNN 4 CE: :Train: Epoch:108 \t Loss:0.02064\n"
          ]
        },
        {
          "output_type": "stream",
          "name": "stdout",
          "text": [
            "\n"
          ]
        },
        {
          "output_type": "stream",
          "name": "stderr",
          "text": [
            "100%|██████████| 8/8 [00:00<00:00, 33.22it/s]\n",
            "INFO:CNN 4 CE: :Train: Epoch:109 \t Loss:0.02066\n"
          ]
        },
        {
          "output_type": "stream",
          "name": "stdout",
          "text": [
            "\n"
          ]
        },
        {
          "output_type": "stream",
          "name": "stderr",
          "text": [
            "100%|██████████| 8/8 [00:00<00:00, 33.59it/s]\n",
            "INFO:CNN 4 CE: :Train: Epoch:110 \t Loss:0.02085\n"
          ]
        },
        {
          "output_type": "stream",
          "name": "stdout",
          "text": [
            "\n"
          ]
        },
        {
          "output_type": "stream",
          "name": "stderr",
          "text": [
            "100%|██████████| 8/8 [00:00<00:00, 33.65it/s]\n",
            "INFO:CNN 4 CE: :Train: Epoch:111 \t Loss:0.02062\n"
          ]
        },
        {
          "output_type": "stream",
          "name": "stdout",
          "text": [
            "\n"
          ]
        },
        {
          "output_type": "stream",
          "name": "stderr",
          "text": [
            "100%|██████████| 8/8 [00:00<00:00, 33.41it/s]\n",
            "INFO:CNN 4 CE: :Train: Epoch:112 \t Loss:0.02054\n"
          ]
        },
        {
          "output_type": "stream",
          "name": "stdout",
          "text": [
            "\n"
          ]
        },
        {
          "output_type": "stream",
          "name": "stderr",
          "text": [
            "100%|██████████| 8/8 [00:00<00:00, 33.28it/s]\n",
            "INFO:CNN 4 CE: :Train: Epoch:113 \t Loss:0.02051\n"
          ]
        },
        {
          "output_type": "stream",
          "name": "stdout",
          "text": [
            "\n"
          ]
        },
        {
          "output_type": "stream",
          "name": "stderr",
          "text": [
            "100%|██████████| 8/8 [00:00<00:00, 33.47it/s]\n",
            "INFO:CNN 4 CE: :Train: Epoch:114 \t Loss:0.02047\n"
          ]
        },
        {
          "output_type": "stream",
          "name": "stdout",
          "text": [
            "\n"
          ]
        },
        {
          "output_type": "stream",
          "name": "stderr",
          "text": [
            "100%|██████████| 8/8 [00:00<00:00, 33.82it/s]\n",
            "INFO:CNN 4 CE: :Train: Epoch:115 \t Loss:0.02042\n"
          ]
        },
        {
          "output_type": "stream",
          "name": "stdout",
          "text": [
            "\n"
          ]
        },
        {
          "output_type": "stream",
          "name": "stderr",
          "text": [
            "100%|██████████| 8/8 [00:00<00:00, 33.87it/s]\n",
            "INFO:CNN 4 CE: :Train: Epoch:116 \t Loss:0.02037\n"
          ]
        },
        {
          "output_type": "stream",
          "name": "stdout",
          "text": [
            "\n"
          ]
        },
        {
          "output_type": "stream",
          "name": "stderr",
          "text": [
            "100%|██████████| 8/8 [00:00<00:00, 33.90it/s]\n",
            "INFO:CNN 4 CE: :Train: Epoch:117 \t Loss:0.02052\n"
          ]
        },
        {
          "output_type": "stream",
          "name": "stdout",
          "text": [
            "\n"
          ]
        },
        {
          "output_type": "stream",
          "name": "stderr",
          "text": [
            "100%|██████████| 8/8 [00:00<00:00, 33.58it/s]\n",
            "INFO:CNN 4 CE: :Train: Epoch:118 \t Loss:0.02081\n"
          ]
        },
        {
          "output_type": "stream",
          "name": "stdout",
          "text": [
            "\n"
          ]
        },
        {
          "output_type": "stream",
          "name": "stderr",
          "text": [
            "100%|██████████| 8/8 [00:00<00:00, 33.80it/s]\n",
            "INFO:CNN 4 CE: :Train: Epoch:119 \t Loss:0.02051\n"
          ]
        },
        {
          "output_type": "stream",
          "name": "stdout",
          "text": [
            "\n"
          ]
        },
        {
          "output_type": "stream",
          "name": "stderr",
          "text": [
            "100%|██████████| 8/8 [00:00<00:00, 33.85it/s]\n",
            "INFO:CNN 4 CE: :Train: Epoch:120 \t Loss:0.02062\n"
          ]
        },
        {
          "output_type": "stream",
          "name": "stdout",
          "text": [
            "\n"
          ]
        },
        {
          "output_type": "stream",
          "name": "stderr",
          "text": [
            "100%|██████████| 8/8 [00:00<00:00, 33.96it/s]\n",
            "INFO:CNN 4 CE: :Train: Epoch:121 \t Loss:0.02051\n"
          ]
        },
        {
          "output_type": "stream",
          "name": "stdout",
          "text": [
            "\n"
          ]
        },
        {
          "output_type": "stream",
          "name": "stderr",
          "text": [
            "100%|██████████| 8/8 [00:00<00:00, 33.65it/s]\n",
            "INFO:CNN 4 CE: :Train: Epoch:122 \t Loss:0.02049\n"
          ]
        },
        {
          "output_type": "stream",
          "name": "stdout",
          "text": [
            "\n"
          ]
        },
        {
          "output_type": "stream",
          "name": "stderr",
          "text": [
            "100%|██████████| 8/8 [00:00<00:00, 34.03it/s]\n",
            "INFO:CNN 4 CE: :Train: Epoch:123 \t Loss:0.0204\n"
          ]
        },
        {
          "output_type": "stream",
          "name": "stdout",
          "text": [
            "\n"
          ]
        },
        {
          "output_type": "stream",
          "name": "stderr",
          "text": [
            "100%|██████████| 8/8 [00:00<00:00, 33.66it/s]\n",
            "INFO:CNN 4 CE: :Train: Epoch:124 \t Loss:0.02058\n"
          ]
        },
        {
          "output_type": "stream",
          "name": "stdout",
          "text": [
            "\n"
          ]
        },
        {
          "output_type": "stream",
          "name": "stderr",
          "text": [
            "100%|██████████| 8/8 [00:00<00:00, 33.80it/s]\n",
            "INFO:CNN 4 CE: :Train: Epoch:125 \t Loss:0.02051\n"
          ]
        },
        {
          "output_type": "stream",
          "name": "stdout",
          "text": [
            "\n"
          ]
        },
        {
          "output_type": "stream",
          "name": "stderr",
          "text": [
            "100%|██████████| 8/8 [00:00<00:00, 33.64it/s]\n",
            "INFO:CNN 4 CE: :Train: Epoch:126 \t Loss:0.02031\n"
          ]
        },
        {
          "output_type": "stream",
          "name": "stdout",
          "text": [
            "\n"
          ]
        },
        {
          "output_type": "stream",
          "name": "stderr",
          "text": [
            "100%|██████████| 8/8 [00:00<00:00, 34.07it/s]\n",
            "INFO:CNN 4 CE: :Train: Epoch:127 \t Loss:0.02015\n"
          ]
        },
        {
          "output_type": "stream",
          "name": "stdout",
          "text": [
            "\n"
          ]
        },
        {
          "output_type": "stream",
          "name": "stderr",
          "text": [
            "100%|██████████| 8/8 [00:00<00:00, 33.71it/s]\n",
            "INFO:CNN 4 CE: :Train: Epoch:128 \t Loss:0.02013\n"
          ]
        },
        {
          "output_type": "stream",
          "name": "stdout",
          "text": [
            "\n"
          ]
        },
        {
          "output_type": "stream",
          "name": "stderr",
          "text": [
            "100%|██████████| 8/8 [00:00<00:00, 33.82it/s]\n",
            "INFO:CNN 4 CE: :Train: Epoch:129 \t Loss:0.02014\n"
          ]
        },
        {
          "output_type": "stream",
          "name": "stdout",
          "text": [
            "\n"
          ]
        },
        {
          "output_type": "stream",
          "name": "stderr",
          "text": [
            "100%|██████████| 8/8 [00:00<00:00, 33.54it/s]\n",
            "INFO:CNN 4 CE: :Train: Epoch:130 \t Loss:0.02013\n"
          ]
        },
        {
          "output_type": "stream",
          "name": "stdout",
          "text": [
            "\n"
          ]
        },
        {
          "output_type": "stream",
          "name": "stderr",
          "text": [
            "100%|██████████| 8/8 [00:00<00:00, 33.84it/s]\n",
            "INFO:CNN 4 CE: :Train: Epoch:131 \t Loss:0.02005\n"
          ]
        },
        {
          "output_type": "stream",
          "name": "stdout",
          "text": [
            "\n"
          ]
        },
        {
          "output_type": "stream",
          "name": "stderr",
          "text": [
            "100%|██████████| 8/8 [00:00<00:00, 33.96it/s]\n",
            "INFO:CNN 4 CE: :Train: Epoch:132 \t Loss:0.01998\n"
          ]
        },
        {
          "output_type": "stream",
          "name": "stdout",
          "text": [
            "\n"
          ]
        },
        {
          "output_type": "stream",
          "name": "stderr",
          "text": [
            "100%|██████████| 8/8 [00:00<00:00, 33.76it/s]\n",
            "INFO:CNN 4 CE: :Train: Epoch:133 \t Loss:0.02005\n"
          ]
        },
        {
          "output_type": "stream",
          "name": "stdout",
          "text": [
            "\n"
          ]
        },
        {
          "output_type": "stream",
          "name": "stderr",
          "text": [
            "100%|██████████| 8/8 [00:00<00:00, 33.74it/s]\n",
            "INFO:CNN 4 CE: :Train: Epoch:134 \t Loss:0.02014\n"
          ]
        },
        {
          "output_type": "stream",
          "name": "stdout",
          "text": [
            "\n"
          ]
        },
        {
          "output_type": "stream",
          "name": "stderr",
          "text": [
            "100%|██████████| 8/8 [00:00<00:00, 33.69it/s]\n",
            "INFO:CNN 4 CE: :Train: Epoch:135 \t Loss:0.01998\n"
          ]
        },
        {
          "output_type": "stream",
          "name": "stdout",
          "text": [
            "\n"
          ]
        },
        {
          "output_type": "stream",
          "name": "stderr",
          "text": [
            "100%|██████████| 8/8 [00:00<00:00, 34.06it/s]\n",
            "INFO:CNN 4 CE: :Train: Epoch:136 \t Loss:0.01987\n"
          ]
        },
        {
          "output_type": "stream",
          "name": "stdout",
          "text": [
            "\n"
          ]
        },
        {
          "output_type": "stream",
          "name": "stderr",
          "text": [
            "100%|██████████| 8/8 [00:00<00:00, 32.89it/s]\n",
            "INFO:CNN 4 CE: :Train: Epoch:137 \t Loss:0.01976\n"
          ]
        },
        {
          "output_type": "stream",
          "name": "stdout",
          "text": [
            "\n"
          ]
        },
        {
          "output_type": "stream",
          "name": "stderr",
          "text": [
            "100%|██████████| 8/8 [00:00<00:00, 33.16it/s]\n",
            "INFO:CNN 4 CE: :Train: Epoch:138 \t Loss:0.01984\n"
          ]
        },
        {
          "output_type": "stream",
          "name": "stdout",
          "text": [
            "\n"
          ]
        },
        {
          "output_type": "stream",
          "name": "stderr",
          "text": [
            "100%|██████████| 8/8 [00:00<00:00, 32.95it/s]\n",
            "INFO:CNN 4 CE: :Train: Epoch:139 \t Loss:0.02006\n"
          ]
        },
        {
          "output_type": "stream",
          "name": "stdout",
          "text": [
            "\n"
          ]
        },
        {
          "output_type": "stream",
          "name": "stderr",
          "text": [
            "100%|██████████| 8/8 [00:00<00:00, 33.72it/s]\n",
            "INFO:CNN 4 CE: :Train: Epoch:140 \t Loss:0.0201\n"
          ]
        },
        {
          "output_type": "stream",
          "name": "stdout",
          "text": [
            "\n"
          ]
        },
        {
          "output_type": "stream",
          "name": "stderr",
          "text": [
            "100%|██████████| 8/8 [00:00<00:00, 33.34it/s]\n",
            "INFO:CNN 4 CE: :Train: Epoch:141 \t Loss:0.01985\n"
          ]
        },
        {
          "output_type": "stream",
          "name": "stdout",
          "text": [
            "\n"
          ]
        },
        {
          "output_type": "stream",
          "name": "stderr",
          "text": [
            "100%|██████████| 8/8 [00:00<00:00, 33.33it/s]\n",
            "INFO:CNN 4 CE: :Train: Epoch:142 \t Loss:0.01978\n"
          ]
        },
        {
          "output_type": "stream",
          "name": "stdout",
          "text": [
            "\n"
          ]
        },
        {
          "output_type": "stream",
          "name": "stderr",
          "text": [
            "100%|██████████| 8/8 [00:00<00:00, 33.34it/s]\n",
            "INFO:CNN 4 CE: :Train: Epoch:143 \t Loss:0.01977\n"
          ]
        },
        {
          "output_type": "stream",
          "name": "stdout",
          "text": [
            "\n"
          ]
        },
        {
          "output_type": "stream",
          "name": "stderr",
          "text": [
            "100%|██████████| 8/8 [00:00<00:00, 33.45it/s]\n",
            "INFO:CNN 4 CE: :Train: Epoch:144 \t Loss:0.01982\n"
          ]
        },
        {
          "output_type": "stream",
          "name": "stdout",
          "text": [
            "\n"
          ]
        },
        {
          "output_type": "stream",
          "name": "stderr",
          "text": [
            "100%|██████████| 8/8 [00:00<00:00, 33.48it/s]\n",
            "INFO:CNN 4 CE: :Train: Epoch:145 \t Loss:0.01994\n"
          ]
        },
        {
          "output_type": "stream",
          "name": "stdout",
          "text": [
            "\n"
          ]
        },
        {
          "output_type": "stream",
          "name": "stderr",
          "text": [
            "100%|██████████| 8/8 [00:00<00:00, 33.72it/s]\n",
            "INFO:CNN 4 CE: :Train: Epoch:146 \t Loss:0.01995\n"
          ]
        },
        {
          "output_type": "stream",
          "name": "stdout",
          "text": [
            "\n"
          ]
        },
        {
          "output_type": "stream",
          "name": "stderr",
          "text": [
            "100%|██████████| 8/8 [00:00<00:00, 33.76it/s]\n",
            "INFO:CNN 4 CE: :Train: Epoch:147 \t Loss:0.01982\n"
          ]
        },
        {
          "output_type": "stream",
          "name": "stdout",
          "text": [
            "\n"
          ]
        },
        {
          "output_type": "stream",
          "name": "stderr",
          "text": [
            "100%|██████████| 8/8 [00:00<00:00, 33.64it/s]\n",
            "INFO:CNN 4 CE: :Train: Epoch:148 \t Loss:0.01967\n"
          ]
        },
        {
          "output_type": "stream",
          "name": "stdout",
          "text": [
            "\n"
          ]
        },
        {
          "output_type": "stream",
          "name": "stderr",
          "text": [
            "100%|██████████| 8/8 [00:00<00:00, 34.08it/s]\n",
            "INFO:CNN 4 CE: :Train: Epoch:149 \t Loss:0.01958\n"
          ]
        },
        {
          "output_type": "stream",
          "name": "stdout",
          "text": [
            "\n"
          ]
        },
        {
          "output_type": "stream",
          "name": "stderr",
          "text": [
            "100%|██████████| 8/8 [00:00<00:00, 33.95it/s]\n",
            "INFO:CNN 4 CE: :Train: Epoch:150 \t Loss:0.01976\n"
          ]
        },
        {
          "output_type": "stream",
          "name": "stdout",
          "text": [
            "\n"
          ]
        },
        {
          "output_type": "stream",
          "name": "stderr",
          "text": [
            "100%|██████████| 8/8 [00:00<00:00, 33.22it/s]\n",
            "INFO:CNN 4 CE: :Train: Epoch:151 \t Loss:0.01971\n"
          ]
        },
        {
          "output_type": "stream",
          "name": "stdout",
          "text": [
            "\n"
          ]
        },
        {
          "output_type": "stream",
          "name": "stderr",
          "text": [
            "100%|██████████| 8/8 [00:00<00:00, 34.09it/s]\n",
            "INFO:CNN 4 CE: :Train: Epoch:152 \t Loss:0.01968\n"
          ]
        },
        {
          "output_type": "stream",
          "name": "stdout",
          "text": [
            "\n"
          ]
        },
        {
          "output_type": "stream",
          "name": "stderr",
          "text": [
            "100%|██████████| 8/8 [00:00<00:00, 33.89it/s]\n",
            "INFO:CNN 4 CE: :Train: Epoch:153 \t Loss:0.01969\n"
          ]
        },
        {
          "output_type": "stream",
          "name": "stdout",
          "text": [
            "\n"
          ]
        },
        {
          "output_type": "stream",
          "name": "stderr",
          "text": [
            "100%|██████████| 8/8 [00:00<00:00, 34.00it/s]\n",
            "INFO:CNN 4 CE: :Train: Epoch:154 \t Loss:0.01957\n"
          ]
        },
        {
          "output_type": "stream",
          "name": "stdout",
          "text": [
            "\n"
          ]
        },
        {
          "output_type": "stream",
          "name": "stderr",
          "text": [
            "100%|██████████| 8/8 [00:00<00:00, 33.75it/s]\n",
            "INFO:CNN 4 CE: :Train: Epoch:155 \t Loss:0.01952\n"
          ]
        },
        {
          "output_type": "stream",
          "name": "stdout",
          "text": [
            "\n"
          ]
        },
        {
          "output_type": "stream",
          "name": "stderr",
          "text": [
            "100%|██████████| 8/8 [00:00<00:00, 33.90it/s]\n",
            "INFO:CNN 4 CE: :Train: Epoch:156 \t Loss:0.01935\n"
          ]
        },
        {
          "output_type": "stream",
          "name": "stdout",
          "text": [
            "\n"
          ]
        },
        {
          "output_type": "stream",
          "name": "stderr",
          "text": [
            "100%|██████████| 8/8 [00:00<00:00, 33.91it/s]\n",
            "INFO:CNN 4 CE: :Train: Epoch:157 \t Loss:0.01925\n"
          ]
        },
        {
          "output_type": "stream",
          "name": "stdout",
          "text": [
            "\n"
          ]
        },
        {
          "output_type": "stream",
          "name": "stderr",
          "text": [
            "100%|██████████| 8/8 [00:00<00:00, 33.81it/s]\n",
            "INFO:CNN 4 CE: :Train: Epoch:158 \t Loss:0.01922\n"
          ]
        },
        {
          "output_type": "stream",
          "name": "stdout",
          "text": [
            "\n"
          ]
        },
        {
          "output_type": "stream",
          "name": "stderr",
          "text": [
            "100%|██████████| 8/8 [00:00<00:00, 33.64it/s]\n",
            "INFO:CNN 4 CE: :Train: Epoch:159 \t Loss:0.01916\n"
          ]
        },
        {
          "output_type": "stream",
          "name": "stdout",
          "text": [
            "\n"
          ]
        },
        {
          "output_type": "stream",
          "name": "stderr",
          "text": [
            "100%|██████████| 8/8 [00:00<00:00, 33.63it/s]\n",
            "INFO:CNN 4 CE: :Train: Epoch:160 \t Loss:0.01928\n"
          ]
        },
        {
          "output_type": "stream",
          "name": "stdout",
          "text": [
            "\n"
          ]
        },
        {
          "output_type": "stream",
          "name": "stderr",
          "text": [
            "100%|██████████| 8/8 [00:00<00:00, 33.45it/s]\n",
            "INFO:CNN 4 CE: :Train: Epoch:161 \t Loss:0.01938\n"
          ]
        },
        {
          "output_type": "stream",
          "name": "stdout",
          "text": [
            "\n"
          ]
        },
        {
          "output_type": "stream",
          "name": "stderr",
          "text": [
            "100%|██████████| 8/8 [00:00<00:00, 34.01it/s]\n",
            "INFO:CNN 4 CE: :Train: Epoch:162 \t Loss:0.01931\n"
          ]
        },
        {
          "output_type": "stream",
          "name": "stdout",
          "text": [
            "\n"
          ]
        },
        {
          "output_type": "stream",
          "name": "stderr",
          "text": [
            "100%|██████████| 8/8 [00:00<00:00, 33.42it/s]\n",
            "INFO:CNN 4 CE: :Train: Epoch:163 \t Loss:0.01924\n"
          ]
        },
        {
          "output_type": "stream",
          "name": "stdout",
          "text": [
            "\n"
          ]
        },
        {
          "output_type": "stream",
          "name": "stderr",
          "text": [
            "100%|██████████| 8/8 [00:00<00:00, 33.89it/s]\n",
            "INFO:CNN 4 CE: :Train: Epoch:164 \t Loss:0.0192\n"
          ]
        },
        {
          "output_type": "stream",
          "name": "stdout",
          "text": [
            "\n"
          ]
        },
        {
          "output_type": "stream",
          "name": "stderr",
          "text": [
            "100%|██████████| 8/8 [00:00<00:00, 33.88it/s]\n",
            "INFO:CNN 4 CE: :Train: Epoch:165 \t Loss:0.01921\n"
          ]
        },
        {
          "output_type": "stream",
          "name": "stdout",
          "text": [
            "\n"
          ]
        },
        {
          "output_type": "stream",
          "name": "stderr",
          "text": [
            "100%|██████████| 8/8 [00:00<00:00, 33.86it/s]\n",
            "INFO:CNN 4 CE: :Train: Epoch:166 \t Loss:0.01935\n"
          ]
        },
        {
          "output_type": "stream",
          "name": "stdout",
          "text": [
            "\n"
          ]
        },
        {
          "output_type": "stream",
          "name": "stderr",
          "text": [
            "100%|██████████| 8/8 [00:00<00:00, 33.70it/s]\n",
            "INFO:CNN 4 CE: :Train: Epoch:167 \t Loss:0.01933\n"
          ]
        },
        {
          "output_type": "stream",
          "name": "stdout",
          "text": [
            "\n"
          ]
        },
        {
          "output_type": "stream",
          "name": "stderr",
          "text": [
            "100%|██████████| 8/8 [00:00<00:00, 33.95it/s]\n",
            "INFO:CNN 4 CE: :Train: Epoch:168 \t Loss:0.01926\n"
          ]
        },
        {
          "output_type": "stream",
          "name": "stdout",
          "text": [
            "\n"
          ]
        },
        {
          "output_type": "stream",
          "name": "stderr",
          "text": [
            "100%|██████████| 8/8 [00:00<00:00, 33.92it/s]\n",
            "INFO:CNN 4 CE: :Train: Epoch:169 \t Loss:0.01914\n"
          ]
        },
        {
          "output_type": "stream",
          "name": "stdout",
          "text": [
            "\n"
          ]
        },
        {
          "output_type": "stream",
          "name": "stderr",
          "text": [
            "100%|██████████| 8/8 [00:00<00:00, 33.59it/s]\n",
            "INFO:CNN 4 CE: :Train: Epoch:170 \t Loss:0.01949\n"
          ]
        },
        {
          "output_type": "stream",
          "name": "stdout",
          "text": [
            "\n"
          ]
        },
        {
          "output_type": "stream",
          "name": "stderr",
          "text": [
            "100%|██████████| 8/8 [00:00<00:00, 34.18it/s]\n",
            "INFO:CNN 4 CE: :Train: Epoch:171 \t Loss:0.01935\n"
          ]
        },
        {
          "output_type": "stream",
          "name": "stdout",
          "text": [
            "\n"
          ]
        },
        {
          "output_type": "stream",
          "name": "stderr",
          "text": [
            "100%|██████████| 8/8 [00:00<00:00, 33.75it/s]\n",
            "INFO:CNN 4 CE: :Train: Epoch:172 \t Loss:0.0191\n"
          ]
        },
        {
          "output_type": "stream",
          "name": "stdout",
          "text": [
            "\n"
          ]
        },
        {
          "output_type": "stream",
          "name": "stderr",
          "text": [
            "100%|██████████| 8/8 [00:00<00:00, 34.00it/s]\n",
            "INFO:CNN 4 CE: :Train: Epoch:173 \t Loss:0.019\n"
          ]
        },
        {
          "output_type": "stream",
          "name": "stdout",
          "text": [
            "\n"
          ]
        },
        {
          "output_type": "stream",
          "name": "stderr",
          "text": [
            "100%|██████████| 8/8 [00:00<00:00, 34.04it/s]\n",
            "INFO:CNN 4 CE: :Train: Epoch:174 \t Loss:0.01898\n"
          ]
        },
        {
          "output_type": "stream",
          "name": "stdout",
          "text": [
            "\n"
          ]
        },
        {
          "output_type": "stream",
          "name": "stderr",
          "text": [
            "100%|██████████| 8/8 [00:00<00:00, 33.99it/s]\n",
            "INFO:CNN 4 CE: :Train: Epoch:175 \t Loss:0.01897\n"
          ]
        },
        {
          "output_type": "stream",
          "name": "stdout",
          "text": [
            "\n"
          ]
        },
        {
          "output_type": "stream",
          "name": "stderr",
          "text": [
            "100%|██████████| 8/8 [00:00<00:00, 34.08it/s]\n",
            "INFO:CNN 4 CE: :Train: Epoch:176 \t Loss:0.01898\n"
          ]
        },
        {
          "output_type": "stream",
          "name": "stdout",
          "text": [
            "\n"
          ]
        },
        {
          "output_type": "stream",
          "name": "stderr",
          "text": [
            "100%|██████████| 8/8 [00:00<00:00, 34.12it/s]\n",
            "INFO:CNN 4 CE: :Train: Epoch:177 \t Loss:0.01884\n"
          ]
        },
        {
          "output_type": "stream",
          "name": "stdout",
          "text": [
            "\n"
          ]
        },
        {
          "output_type": "stream",
          "name": "stderr",
          "text": [
            "100%|██████████| 8/8 [00:00<00:00, 34.11it/s]\n",
            "INFO:CNN 4 CE: :Train: Epoch:178 \t Loss:0.01879\n"
          ]
        },
        {
          "output_type": "stream",
          "name": "stdout",
          "text": [
            "\n"
          ]
        },
        {
          "output_type": "stream",
          "name": "stderr",
          "text": [
            "100%|██████████| 8/8 [00:00<00:00, 34.11it/s]\n",
            "INFO:CNN 4 CE: :Train: Epoch:179 \t Loss:0.01875\n"
          ]
        },
        {
          "output_type": "stream",
          "name": "stdout",
          "text": [
            "\n"
          ]
        },
        {
          "output_type": "stream",
          "name": "stderr",
          "text": [
            "100%|██████████| 8/8 [00:00<00:00, 33.94it/s]\n",
            "INFO:CNN 4 CE: :Train: Epoch:180 \t Loss:0.01874\n"
          ]
        },
        {
          "output_type": "stream",
          "name": "stdout",
          "text": [
            "\n"
          ]
        },
        {
          "output_type": "stream",
          "name": "stderr",
          "text": [
            "100%|██████████| 8/8 [00:00<00:00, 33.99it/s]\n",
            "INFO:CNN 4 CE: :Train: Epoch:181 \t Loss:0.01904\n"
          ]
        },
        {
          "output_type": "stream",
          "name": "stdout",
          "text": [
            "\n"
          ]
        },
        {
          "output_type": "stream",
          "name": "stderr",
          "text": [
            "100%|██████████| 8/8 [00:00<00:00, 33.99it/s]\n",
            "INFO:CNN 4 CE: :Train: Epoch:182 \t Loss:0.01893\n"
          ]
        },
        {
          "output_type": "stream",
          "name": "stdout",
          "text": [
            "\n"
          ]
        },
        {
          "output_type": "stream",
          "name": "stderr",
          "text": [
            "100%|██████████| 8/8 [00:00<00:00, 33.99it/s]\n",
            "INFO:CNN 4 CE: :Train: Epoch:183 \t Loss:0.01897\n"
          ]
        },
        {
          "output_type": "stream",
          "name": "stdout",
          "text": [
            "\n"
          ]
        },
        {
          "output_type": "stream",
          "name": "stderr",
          "text": [
            "100%|██████████| 8/8 [00:00<00:00, 33.07it/s]\n",
            "INFO:CNN 4 CE: :Train: Epoch:184 \t Loss:0.01906\n"
          ]
        },
        {
          "output_type": "stream",
          "name": "stdout",
          "text": [
            "\n"
          ]
        },
        {
          "output_type": "stream",
          "name": "stderr",
          "text": [
            "100%|██████████| 8/8 [00:00<00:00, 33.55it/s]\n",
            "INFO:CNN 4 CE: :Train: Epoch:185 \t Loss:0.01911\n"
          ]
        },
        {
          "output_type": "stream",
          "name": "stdout",
          "text": [
            "\n"
          ]
        },
        {
          "output_type": "stream",
          "name": "stderr",
          "text": [
            "100%|██████████| 8/8 [00:00<00:00, 33.46it/s]\n",
            "INFO:CNN 4 CE: :Train: Epoch:186 \t Loss:0.01892\n"
          ]
        },
        {
          "output_type": "stream",
          "name": "stdout",
          "text": [
            "\n"
          ]
        },
        {
          "output_type": "stream",
          "name": "stderr",
          "text": [
            "100%|██████████| 8/8 [00:00<00:00, 33.52it/s]\n",
            "INFO:CNN 4 CE: :Train: Epoch:187 \t Loss:0.01884\n"
          ]
        },
        {
          "output_type": "stream",
          "name": "stdout",
          "text": [
            "\n"
          ]
        },
        {
          "output_type": "stream",
          "name": "stderr",
          "text": [
            "100%|██████████| 8/8 [00:00<00:00, 33.66it/s]\n",
            "INFO:CNN 4 CE: :Train: Epoch:188 \t Loss:0.01872\n"
          ]
        },
        {
          "output_type": "stream",
          "name": "stdout",
          "text": [
            "\n"
          ]
        },
        {
          "output_type": "stream",
          "name": "stderr",
          "text": [
            "100%|██████████| 8/8 [00:00<00:00, 33.64it/s]\n",
            "INFO:CNN 4 CE: :Train: Epoch:189 \t Loss:0.0188\n"
          ]
        },
        {
          "output_type": "stream",
          "name": "stdout",
          "text": [
            "\n"
          ]
        },
        {
          "output_type": "stream",
          "name": "stderr",
          "text": [
            "100%|██████████| 8/8 [00:00<00:00, 33.19it/s]\n",
            "INFO:CNN 4 CE: :Train: Epoch:190 \t Loss:0.01875\n"
          ]
        },
        {
          "output_type": "stream",
          "name": "stdout",
          "text": [
            "\n"
          ]
        },
        {
          "output_type": "stream",
          "name": "stderr",
          "text": [
            "100%|██████████| 8/8 [00:00<00:00, 32.79it/s]\n",
            "INFO:CNN 4 CE: :Train: Epoch:191 \t Loss:0.01876\n"
          ]
        },
        {
          "output_type": "stream",
          "name": "stdout",
          "text": [
            "\n"
          ]
        },
        {
          "output_type": "stream",
          "name": "stderr",
          "text": [
            "100%|██████████| 8/8 [00:00<00:00, 33.39it/s]\n",
            "INFO:CNN 4 CE: :Train: Epoch:192 \t Loss:0.01902\n"
          ]
        },
        {
          "output_type": "stream",
          "name": "stdout",
          "text": [
            "\n"
          ]
        },
        {
          "output_type": "stream",
          "name": "stderr",
          "text": [
            "100%|██████████| 8/8 [00:00<00:00, 33.68it/s]\n",
            "INFO:CNN 4 CE: :Train: Epoch:193 \t Loss:0.01899\n"
          ]
        },
        {
          "output_type": "stream",
          "name": "stdout",
          "text": [
            "\n"
          ]
        },
        {
          "output_type": "stream",
          "name": "stderr",
          "text": [
            "100%|██████████| 8/8 [00:00<00:00, 34.06it/s]\n",
            "INFO:CNN 4 CE: :Train: Epoch:194 \t Loss:0.01877\n"
          ]
        },
        {
          "output_type": "stream",
          "name": "stdout",
          "text": [
            "\n"
          ]
        },
        {
          "output_type": "stream",
          "name": "stderr",
          "text": [
            "100%|██████████| 8/8 [00:00<00:00, 33.99it/s]\n",
            "INFO:CNN 4 CE: :Train: Epoch:195 \t Loss:0.01851\n"
          ]
        },
        {
          "output_type": "stream",
          "name": "stdout",
          "text": [
            "\n"
          ]
        },
        {
          "output_type": "stream",
          "name": "stderr",
          "text": [
            "100%|██████████| 8/8 [00:00<00:00, 34.09it/s]\n",
            "INFO:CNN 4 CE: :Train: Epoch:196 \t Loss:0.01856\n"
          ]
        },
        {
          "output_type": "stream",
          "name": "stdout",
          "text": [
            "\n"
          ]
        },
        {
          "output_type": "stream",
          "name": "stderr",
          "text": [
            "100%|██████████| 8/8 [00:00<00:00, 33.58it/s]\n",
            "INFO:CNN 4 CE: :Train: Epoch:197 \t Loss:0.01862\n"
          ]
        },
        {
          "output_type": "stream",
          "name": "stdout",
          "text": [
            "\n"
          ]
        },
        {
          "output_type": "stream",
          "name": "stderr",
          "text": [
            "100%|██████████| 8/8 [00:00<00:00, 33.65it/s]\n",
            "INFO:CNN 4 CE: :Train: Epoch:198 \t Loss:0.01848\n"
          ]
        },
        {
          "output_type": "stream",
          "name": "stdout",
          "text": [
            "\n"
          ]
        },
        {
          "output_type": "stream",
          "name": "stderr",
          "text": [
            "100%|██████████| 8/8 [00:00<00:00, 33.07it/s]\n",
            "INFO:CNN 4 CE: :Train: Epoch:199 \t Loss:0.01862\n"
          ]
        },
        {
          "output_type": "stream",
          "name": "stdout",
          "text": [
            "\n"
          ]
        }
      ]
    },
    {
      "cell_type": "code",
      "source": [
        "\n",
        "plt.figure(figsize=(10,5))\n",
        "plt.title(\"loss\")\n",
        "plt.plot(train_loss,label=\"NMSE loss\",linestyle='-',color='magenta')\n",
        "plt.xlabel(\"epoch\")\n",
        "plt.ylabel(\"loss\")\n",
        "plt.legend()\n",
        "plt.show()\n",
        "\n"
      ],
      "metadata": {
        "colab": {
          "base_uri": "https://localhost:8080/",
          "height": 487
        },
        "id": "itvM3cw7OWyP",
        "outputId": "210aad92-0352-4703-84e4-0fbf457915f4"
      },
      "execution_count": 56,
      "outputs": [
        {
          "output_type": "display_data",
          "data": {
            "text/plain": [
              "<Figure size 1000x500 with 1 Axes>"
            ],
            "image/png": "[encoded data removed]"
          },
          "metadata": {}
        }
      ]
    },
    {
      "cell_type": "markdown",
      "source": [
        "## Test"
      ],
      "metadata": {
        "id": "V5PFrovd2ap4"
      }
    },
    {
      "cell_type": "code",
      "source": [
        "import time\n",
        "data_num_test=1000\n",
        "data_num_file=1000\n",
        "H_test=zeros((data_num_test,Nr,Nt,2*fre), dtype=float)\n",
        "H_test_noisy=zeros((data_num_test,Nr_beam,Nt_beam,2*fre), dtype=float)\n",
        "filedir = os.listdir('/content/CNN4CE/SF-CNN/2fre_data')  # type the path of testing data (different channel statistics from training data, used for performance evaluation)\n",
        "n=0\n",
        "SNRr=0\n",
        "SNR_factor=5.9\n",
        "for filename in filedir:\n",
        "    newname = os.path.join('/content/CNN4CE/SF-CNN/2fre_data', filename)\n",
        "    data = sio.loadmat(newname)\n",
        "    channel = data['ChannelData_fre']\n",
        "    for i in range(data_num_file):\n",
        "        for j in range(fre):\n",
        "            a=channel[:,:,j,i]\n",
        "            H = np.transpose(a)\n",
        "            H_re = np.real(H)\n",
        "            H_im = np.imag(H)\n",
        "            H_test[n*data_num_file+i, :, :, 2 * j] = H_re / scale\n",
        "            H_test[n*data_num_file+i, :, :, 2 * j + 1] = H_im / scale\n",
        "            N = np.random.normal(0, 1 / np.sqrt(2), size=(Nr, Nt_beam)) + 1j * np.random.normal(0, 1 / np.sqrt(2), size=(Nr, Nt_beam))\n",
        "            NpinvF = np.dot(N, pinvF)\n",
        "            Y = H + 1.0 / np.sqrt(SNR_factor*SNR) * NpinvF\n",
        "            SNRr = SNRr + SNR_factor*SNR * (LA.norm(H)) ** 2 / (LA.norm(NpinvF)) ** 2\n",
        "            Y_re = np.real(Y)\n",
        "            Y_im = np.imag(Y)\n",
        "            H_test_noisy[n*data_num_file+i, :, :, 2 * j] = Y_re / scale\n",
        "            H_test_noisy[n*data_num_file+i, :, :, 2 * j + 1] = Y_im / scale\n",
        "    n = n + 1\n",
        "print('n =',n)\n",
        "print(SNRr/(data_num_test*fre))\n",
        "print(H_test.shape,H_test_noisy.shape)\n",
        "index3 = np.where(abs(H_test) > 1)\n",
        "row_num = np.unique(index3[0])\n",
        "H_test = np.delete(H_test, row_num, axis=0)\n",
        "H_test_noisy = np.delete(H_test_noisy, row_num, axis=0)\n",
        "print(len(row_num))\n",
        "print(H_test.shape, H_test_noisy.shape)\n",
        "\n",
        "H_test=(torch.permute(torch.tensor(H_test , dtype = torch.float32),(0,3,1,2))).to(device)\n",
        "H_test_noisy=torch.permute(torch.tensor(H_test_noisy,dtype = torch.float32),(0,3,1,2)).to(device)\n",
        "print(H_test.shape, H_test_noisy.shape)\n",
        "print(((H_test)**2).mean())\n",
        "\n"
      ],
      "metadata": {
        "colab": {
          "base_uri": "https://localhost:8080/"
        },
        "id": "2JcbRtEG2cg3",
        "outputId": "32db7e95-4863-46d2-b5d9-576d5221c8e8"
      },
      "execution_count": 57,
      "outputs": [
        {
          "output_type": "stream",
          "name": "stdout",
          "text": [
            "n = 1\n",
            "0.987987337375977\n",
            "(1000, 16, 32, 4) (1000, 16, 32, 4)\n",
            "1\n",
            "(999, 16, 32, 4) (999, 16, 32, 4)\n",
            "torch.Size([999, 4, 16, 32]) torch.Size([999, 4, 16, 32])\n",
            "tensor(0.0208, device='cuda:0')\n"
          ]
        }
      ]
    },
    {
      "cell_type": "code",
      "source": [
        "model.eval()\n",
        "\n",
        "t1=time.time()\n",
        "decoded_channel = model(H_test_noisy)\n",
        "t2=time.time()\n",
        "nmse2=torch.zeros((data_num_test-len(row_num),1), dtype=torch.float32)\n",
        "for n in range(data_num_test-len(row_num)):\n",
        "    MSE=((H_test[n,:,:,:]-decoded_channel[n,:,:,:])**2).sum()\n",
        "    norm_real=((H_test[n,:,:,:])**2).sum()\n",
        "    nmse2[n]=MSE/norm_real\n",
        "print('NMSE after training stage (testing performance) = ',nmse2.sum()/(data_num_test-len(row_num)))  # calculate NMSE after training stage (testing performance)\n",
        "\n",
        "print('t2-t1 = ',t2-t1)"
      ],
      "metadata": {
        "id": "-P1C5JIhUVWV",
        "colab": {
          "base_uri": "https://localhost:8080/"
        },
        "outputId": "5ec31ff3-824f-4f34-a7c9-6178c8566bd9"
      },
      "execution_count": 59,
      "outputs": [
        {
          "output_type": "stream",
          "name": "stdout",
          "text": [
            "NMSE after training stage (testing performance) =  tensor(3.8345, grad_fn=<DivBackward0>)\n",
            "t2-t1 =  0.01208949089050293\n"
          ]
        }
      ]
    }
  ]
}